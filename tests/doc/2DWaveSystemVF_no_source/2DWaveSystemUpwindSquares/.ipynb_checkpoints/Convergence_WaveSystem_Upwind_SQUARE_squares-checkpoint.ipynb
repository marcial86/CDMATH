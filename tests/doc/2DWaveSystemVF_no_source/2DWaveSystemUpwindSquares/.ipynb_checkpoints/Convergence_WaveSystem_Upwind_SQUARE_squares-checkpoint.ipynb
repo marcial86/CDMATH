{
 "cells": [
  {
   "cell_type": "markdown",
   "metadata": {},
   "source": [
    "# Upwind scheme for Wave System on square meshes"
   ]
  },
  {
   "cell_type": "markdown",
   "metadata": {},
   "source": [
    "## The Wave System on the square"
   ]
  },
  {
   "cell_type": "markdown",
   "metadata": {},
   "source": [
    "We consider the following Wave system with wall boundary conditions\n",
    "\n",
    "$$\n",
    "\\left\\{\\begin{array}{l}\n",
    "\\partial_t p + c^2\\nabla\\cdot\\vec q = 0\\\\\n",
    "\\partial_t \\vec q + \\quad\\vec\\nabla p = 0\n",
    "\\end{array}\\right..\n",
    "$$\n",
    "\n",
    "The wave system can be written in matrix form \n",
    "$$\n",
    "\\partial_t\\left(\n",
    "\\begin{array}{c}\n",
    " p\\\\ \\vec q\n",
    "\\end{array}\\right)\n",
    "+\n",
    "\\left(\n",
    "\\begin{array}{cc}\n",
    " 0              & c^2\\nabla\\cdot \\\\ \n",
    " \\vec\\nabla & 0\n",
    "\\end{array}\\right)\n",
    "\\left(\n",
    "\\begin{array}{c}\n",
    " p\\\\\\vec q\n",
    "\\end{array}\\right)\n",
    "=\n",
    "\\left(\n",
    "\\begin{array}{c}\n",
    " 0 \\\\ \\vec 0\n",
    "\\end{array}\\right)\n",
    "$$\n",
    "In $d$ space dimensions the wave system is an hyperbolic system of $d+1$ equations\n",
    "$$\n",
    "\\partial_t U +\\sum_{i=1}^d A_i\\partial_{x_i} U=0,\\quad U={}^t(p,\\vec q)\n",
    "$$\n",
    "where the jacobian matrix is\n",
    "$$\n",
    "A(\\vec n)=\\sum_{i=1}^d n_i A_i =\n",
    "\\left(\n",
    "\\begin{array}{cc}\n",
    " 0              & c^2 {}^t\\vec n \\\\ \n",
    " \\vec n & 0\n",
    "\\end{array}\\right),\\quad \\vec n\\in\\mathbb{R}^d.\n",
    "$$\n",
    "has $d+1$ eigenvalues $-c,0,\\dots,0,c$.\n",
    "\n",
    "The wave system also takes the conservative form\n",
    "$$\n",
    "\\partial_t U + \\nabla\\cdot F(U)=0,\n",
    "$$\n",
    "where the flux matrix $F$ is defined by\n",
    "$$\n",
    "F(U)\\vec n=A(\\vec n)U,\\quad \\vec n\\in\\mathbb{R}.\n",
    "$$\n",
    "\n",
    "On the square domain $\\Omega= [0,1]\\times [0,1]$ we consider the initial data \n",
    "$$\n",
    "\\left\\{\\begin{array}{l}\n",
    "p_0(x,y)=constant\\\\\n",
    "q_{x0}(x,y)= \\sin(\\pi x) \\cos(\\pi y)\\\\\n",
    "q_{y0}(x,y)=-\\sin(\\pi y) \\cos(\\pi x)\n",
    "\\end{array}\\right..\n",
    "$$  \n",
    "The initial data $(p_0,q_x,q_y)$ is a stationary solution of the wave system.\n",
    "\n"
   ]
  },
  {
   "cell_type": "markdown",
   "metadata": {},
   "source": [
    "## The Upwind scheme for the Wave System"
   ]
  },
  {
   "cell_type": "markdown",
   "metadata": {},
   "source": [
    "The domain $\\Omega$ is decomposed into cells $C_i$.\n",
    "\n",
    "$|C_i|$ is the measure of the cell $C_i$.\n",
    "\n",
    "$f_{ij}$ is the interface between two cells $C_i$ and $C_j$. \n",
    "\n",
    "$s_{ij}$ is the measure of the interface $f_{ij}$.\n",
    "\n",
    "$d_{ij}$ is the distance between the centers of mass of the two cells $C_i$ and $C_j$.\n",
    "\n",
    "The semi-discrete colocated finite volume equation is\n",
    "$$\n",
    "\\partial_t U + \\frac{1}{|C_i|} \\sum s_{ij}F_{ij}=0,\n",
    "$$\n",
    "where\n",
    "$U_i$ is the approximation of $U$ in the cell $C_i$,\n",
    "\n",
    "$F_{ij}$ is a numerical approximation of the outward normal interfacial flux from cell $i$ to cell $j$ usually in the form\n",
    "$$\n",
    "\n",
    "$$\n",
    "In the case of the upwind scheme the interfacial flux is\n",
    "$$\n",
    "F_{ij}=\\frac{u_j-u_i}{d_{ij}}.\n",
    "$$"
   ]
  },
  {
   "cell_type": "markdown",
   "metadata": {},
   "source": [
    "## The script"
   ]
  },
  {
   "cell_type": "markdown",
   "metadata": {},
   "source": [
    "```python\n",
    "#Discrétisation du second membre et extraction du nb max de voisins d'une cellule\n",
    "#================================================================================\n",
    "my_RHSfield = cdmath.Field(\"RHS_field\", cdmath.CELLS, my_mesh, 1)\n",
    "maxNbNeighbours=0#This is to determine the number of non zero coefficients in the sparse finite element rigidity matrix\n",
    "\n",
    "for i in range(nbCells): \n",
    "\tCi = my_mesh.getCell(i)\n",
    "\tx = Ci.x()\n",
    "\ty = Ci.y()\n",
    "\n",
    "\tmy_RHSfield[i]=2*pi*pi*sin(pi*x)*sin(pi*y)#mettre la fonction definie au second membre de l edp\n",
    "\t# compute maximum number of neighbours\n",
    "\tmaxNbNeighbours= max(1+Ci.getNumberOfFaces(),maxNbNeighbours)\n",
    "\n",
    "# Construction de la matrice et du vecteur second membre du système linéaire\n",
    "#===========================================================================\n",
    "Rigidite=cdmath.SparseMatrixPetsc(nbCells,nbCells,maxNbNeighbours)# warning : third argument is max number of non zero coefficients per line of the matrix\n",
    "RHS=cdmath.Vector(nbCells)\n",
    "#Parcours des cellules du domaine\n",
    "for i in range(nbCells):\n",
    "\tRHS[i]=my_RHSfield[i] #la valeur moyenne du second membre f dans la cellule i\n",
    "\tCi=my_mesh.getCell(i)\n",
    "\tfor j in range(Ci.getNumberOfFaces()):# parcours des faces voisinnes\n",
    "\t\tFj=my_mesh.getFace(Ci.getFaceId(j))\n",
    "\t\tif not Fj.isBorder():\n",
    "\t\t\tk=Fj.getCellId(0)\n",
    "\t\t\tif k==i :\n",
    "\t\t\t\tk=Fj.getCellId(1)\n",
    "\t\t\tCk=my_mesh.getCell(k)\n",
    "\t\t\tdistance=Ci.getBarryCenter().distance(Ck.getBarryCenter())\n",
    "\t\t\tcoeff=Fj.getMeasure()/Ci.getMeasure()/distance\n",
    "\t\t\tRigidite.setValue(i,k,-coeff) # terme extradiagonal\n",
    "\t\telse:\n",
    "\t\t\tcoeff=Fj.getMeasure()/Ci.getMeasure()/Ci.getBarryCenter().distance(Fj.getBarryCenter())\n",
    "\t\tRigidite.addValue(i,i,coeff) # terme diagonal\n",
    "\n",
    "\n",
    "# Résolution du système linéaire\n",
    "#=================================\n",
    "LS=cdmath.LinearSolver(Rigidite,RHS,500,1.E-6,\"GMRES\",\"ILU\")\n",
    "SolSyst=LS.solve()\n",
    "\n",
    "# Automatic postprocessing :  save 2D picture and plot diagonal data\n",
    "#===========================\n",
    "diag_data=VTK_routines.Extract_field_data_over_line_to_numpyArray(my_ResultField,[0,1,0],[1,0,0], resolution)\n",
    "plt.legend()\n",
    "plt.xlabel('Position on diagonal line')\n",
    "plt.ylabel('Value on diagonal line')\n",
    "if len(sys.argv) >1 :\n",
    "    plt.title('Plot over diagonal line for finite Volumes \\n for Laplace operator on a 2D square '+my_mesh.getName())\n",
    "    plt.plot(curv_abs, diag_data, label= str(nbCells)+ ' cells mesh')\n",
    "    plt.savefig(\"FiniteVolumes2D_square_ResultField_\"+str(nbCells)+ '_cells'+\"_PlotOverDiagonalLine.png\")\n",
    "\n",
    "```"
   ]
  },
  {
   "cell_type": "markdown",
   "metadata": {},
   "source": [
    "## Numerical results"
   ]
  },
  {
   "cell_type": "markdown",
   "metadata": {},
   "source": [
    "### Cartesian meshes"
   ]
  },
  {
   "cell_type": "markdown",
   "metadata": {},
   "source": [
    "mesh 1 | mesh 2 | mesh 3\n",
    "     - | -    - | -\n",
    "![](squareWithSquares_1.png) | ![](squareWithSquares_2.png)  | ![](squareWithSquares_3.png) \n"
   ]
  },
  {
   "cell_type": "markdown",
   "metadata": {},
   "source": [
    "### Numerical results"
   ]
  },
  {
   "cell_type": "markdown",
   "metadata": {},
   "source": [
    "result 1 | result 2 | result 3\n",
    "       - | -      - | -\n",
    "![](FiniteVolumes2D_square_ResultField16.png) | ![](FiniteVolumes2D_square_ResultField64.png)  | ![](FiniteVolumes2D_square_ResultField256.png) \n"
   ]
  },
  {
   "cell_type": "markdown",
   "metadata": {},
   "source": [
    "## Convergence"
   ]
  },
  {
   "cell_type": "markdown",
   "metadata": {},
   "source": [
    "![](SquareWithSquares_2DPoissonFV_ConvergenceCurve.png)"
   ]
  },
  {
   "cell_type": "markdown",
   "metadata": {},
   "source": [
    "![](SquareWithSquares_2DPoissonFV_PlotOverDiagonalLine.png)"
   ]
  }
 ],
 "metadata": {
  "kernelspec": {
   "display_name": "Python 2",
   "language": "python",
   "name": "python2"
  },
  "language_info": {
   "codemirror_mode": {
    "name": "ipython",
    "version": 2
   },
   "file_extension": ".py",
   "mimetype": "text/x-python",
   "name": "python",
   "nbconvert_exporter": "python",
   "pygments_lexer": "ipython2",
   "version": "2.7.12"
  }
 },
 "nbformat": 4,
 "nbformat_minor": 2
}
