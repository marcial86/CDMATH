{
 "cells": [
  {
   "cell_type": "code",
   "execution_count": 1,
   "metadata": {
    "collapsed": true
   },
   "outputs": [],
   "source": [
    "from IPython.display import display, Markdown\n",
    "with open('PoissonProblemOnSquare.md', 'r') as file1:\n",
    "    PoissonProblemOnSquare = file1.read()\n",
    "#with open('DescriptionFEPoissonProblem.md', 'r') as file2:\n",
    "#    DescriptionFV5PoissonProblem = file2.read()\n",
    "with open('CodeFEPoissonProblem.md', 'r') as file3:\n",
    "    CodeFEPoissonProblem = file3.read()\n",
    "with open('BibliographyFE.md', 'r') as file4:\n",
    "    BibliographyFE=file4.read()"
   ]
  },
  {
   "cell_type": "markdown",
   "metadata": {},
   "source": [
    "# P1 FE scheme for the 2D Poisson equation"
   ]
  },
  {
   "cell_type": "code",
   "execution_count": 2,
   "metadata": {},
   "outputs": [
    {
     "data": {
      "text/markdown": [
       "## The Poisson problem on the square\n",
       "\n",
       "We consider the following Poisson problem with Dirichlet boundary conditions\n",
       "\n",
       "$$\n",
       "\\left\\{\\begin{array}{c}\n",
       "-\\Delta u=f \\textrm{ on } \\Omega\\\\\n",
       "u=0 \\textrm{ on } \\partial\\Omega\n",
       "\\end{array}\\right.\n",
       "$$\n",
       "\n",
       "on the square domain $\\Omega= [0,1]\\times [0,1]$ with \n",
       "$$f=2\\pi^2 sin(\\pi x) sin(\\pi y).$$  \n",
       "The unique solution of the problem is\n",
       "$$\n",
       "u=sin(\\pi x) sin(\\pi y).\n",
       "$$\n",
       "\n",
       "The Poisson equation is a particular case of the diffusion problem\n",
       "$$\n",
       "-\\nabla\\cdot(K\\vec\\nabla u)=f\n",
       "$$\n",
       "and the associated diffusion flux is\n",
       "$$\n",
       "F(u)=K\\nabla u.\n",
       "$$\n",
       "\n",
       "We are in the particular case where $K=1$.\n"
      ],
      "text/plain": [
       "<IPython.core.display.Markdown object>"
      ]
     },
     "metadata": {},
     "output_type": "display_data"
    }
   ],
   "source": [
    "display(Markdown(PoissonProblemOnSquare))"
   ]
  },
  {
   "cell_type": "code",
   "execution_count": 3,
   "metadata": {
    "scrolled": true
   },
   "outputs": [
    {
     "data": {
      "text/markdown": [
       "- In 2D the minimum angle condition (1968)  \n",
       "  $\\alpha_K\\geq\\alpha_0>0,\\,\\forall K\\in \\mathcal{T}$ where $\\alpha_K$ is the minimal angle of $K$  \n",
       "  is sufficient for the convergence of the 2D linear finite element method\n",
       "  $$\n",
       "  \\lim_{h\\to 0} || u - u_h||_{H^1} =0.\n",
       "  $$ \n",
       "  Moreover, if the exact solution $u\\in H^{k+1}$, then\n",
       "  $$\n",
       "  \\exists C,\\forall h,\\quad || u - u_h||_{H^1}\\geq C h^k || u ||_{H^{k+1}}\n",
       "  $$\n",
       "  See theorem 6.3.13 and remark 6.3.12 in  \n",
       "  *Gr\\'egoire Allaire, Numerical analysis and optimization, Oxford University Press, 2007*\n",
       "\n",
       "- In dimension greater than 2, the minimum angle condition can be replaced by the condition\n",
       "  $$\n",
       "  \\exists C,\\forall h,\\forall K\\in\\mathcal{T}\\quad diam(K)\\leq C \\rho(K)\n",
       "  $$\n",
       "  where $diam(K)$ is the diameter of the cell $K$ and $\\rho(K)$ is the diameter of the largest inscribed circle.  \n",
       "  See definition 6.3.11 in  \n",
       "  *Gr\\'egoire Allaire, Numerical analysis and optimization, Oxford University Press, 2007*  \n",
       "  *J. Brandts, S. Korotov, M. Křı́žek, On the equivalence of ball conditions for simplicial finite elements in R d , Appl. Math. Lett. 22 (2009), 1210–1212*\n",
       "\n",
       "- The maximum angle condition (1976)  \n",
       "  $\\gamma_K\\leq\\gamma_0<\\pi,\\,\\forall K\\in \\mathcal{T}$ where $\\gamma_K$ is the maximal angle of $K$  \n",
       "  is sufficient for the convergence of the quadratic finite element method\n",
       "  $$\n",
       "  \\exists C,\\quad || u - u_h||_1 \\leq C h ||u||_2}\n",
       "  $$ \n",
       "  as $h\\to 0$.\n",
       "\n",
       "- The maximum angle condition is not necessary for convergence  \n",
       "  *A. Hannukainen, S. Korotov, M. Křı́žek, Maximum angle condition is not necessary for convergence of the finite element method,  M. Numer. Math. (2012) 120: 79*\n",
       "\n",
       "- Acute triangles (angles less than $\\pi/2$) yield a maximum principle thanks to a diagonally dominant stiffness matrices  \n",
       "  See exercice 6.3.13 in\n",
       "  *Gr\\'egoire Allaire, Numerical analysis and optimization, Oxford University Press, 2007*  \n",
       "  *J. Karátson, S. Korotov, M. Křı́žek, On discrete maximum principles for nonlinear elliptic problems, Math. Comput. Simulation 76 (2007), 99–108*  \n",
       "  *J. Brandts, S. Korotov, M. Křı́žek, The discrete maximum principle for linear simplicial finite element approximations of a reaction-diffusion problem, Linear Algebra Appl. 429 (2008), 2344–2357*\n"
      ],
      "text/plain": [
       "<IPython.core.display.Markdown object>"
      ]
     },
     "metadata": {},
     "output_type": "display_data"
    }
   ],
   "source": [
    "display(Markdown(BibliographyFE))"
   ]
  },
  {
   "cell_type": "code",
   "execution_count": 4,
   "metadata": {},
   "outputs": [
    {
     "ename": "NameError",
     "evalue": "name 'DescriptionFEPoissonProblem' is not defined",
     "output_type": "error",
     "traceback": [
      "\u001b[0;31m---------------------------------------------------------------------------\u001b[0m",
      "\u001b[0;31mNameError\u001b[0m                                 Traceback (most recent call last)",
      "\u001b[0;32m<ipython-input-4-55c4f49bb278>\u001b[0m in \u001b[0;36m<module>\u001b[0;34m()\u001b[0m\n\u001b[0;32m----> 1\u001b[0;31m \u001b[0mdisplay\u001b[0m\u001b[0;34m(\u001b[0m\u001b[0mMarkdown\u001b[0m\u001b[0;34m(\u001b[0m\u001b[0mDescriptionFEPoissonProblem\u001b[0m\u001b[0;34m)\u001b[0m\u001b[0;34m)\u001b[0m\u001b[0;34m\u001b[0m\u001b[0m\n\u001b[0m",
      "\u001b[0;31mNameError\u001b[0m: name 'DescriptionFEPoissonProblem' is not defined"
     ]
    }
   ],
   "source": [
    "display(Markdown(DescriptionFEPoissonProblem))"
   ]
  },
  {
   "cell_type": "code",
   "execution_count": null,
   "metadata": {},
   "outputs": [],
   "source": [
    "display(Markdown(CodeFEPoissonProblem))"
   ]
  },
  {
   "cell_type": "markdown",
   "metadata": {},
   "source": [
    "![](2DPoissonVF_deformedQuadrangles/SquareWithDeformedQuadrangles_2DPoissonVF_ConvergenceCurve.png)"
   ]
  },
  {
   "cell_type": "markdown",
   "metadata": {},
   "source": [
    "## Delaunay triangular meshes"
   ]
  },
  {
   "cell_type": "markdown",
   "metadata": {},
   "source": [
    "mesh 1 | mesh 2 | mesh 3\n",
    "     - | -    - | -\n",
    "![](squareWithTriangles_1.png) | ![](squareWithTriangles_2.png)  | ![](squareWithTriangles_3.png) "
   ]
  },
  {
   "cell_type": "markdown",
   "metadata": {},
   "source": [
    "result 1 | result 2 | result 3\n",
    "       - | -      - | -\n",
    "![](FiniteElements2D_SQUARE_Unstructured_triangles29.png) | ![](FiniteElements2D_SQUARE_Unstructured_triangles131.png)  | ![](FiniteElements2D_SQUARE_Unstructured_triangles506.png) "
   ]
  },
  {
   "cell_type": "markdown",
   "metadata": {},
   "source": [
    "![](squareWithDelaunayTriangles_2DPoissonEF_ConvergenceCurve.png)"
   ]
  },
  {
   "cell_type": "markdown",
   "metadata": {},
   "source": [
    "![](squareWithDelaunayTriangles_2DPoissonEF_MinMax.png)"
   ]
  },
  {
   "cell_type": "markdown",
   "metadata": {},
   "source": [
    "![](2DPoissonVF_triangles/SquareWithTriangles_2DPoissonVF_ConvergenceCurve.png)"
   ]
  },
  {
   "cell_type": "markdown",
   "metadata": {},
   "source": [
    "## Skinny right triangle meshes (from a $(n,n^2)$ rectangular grid)"
   ]
  },
  {
   "cell_type": "markdown",
   "metadata": {},
   "source": [
    "mesh 1 | mesh 2 | mesh 3 \n",
    "     - | -    - | -    - \n",
    "![](squareWithSkinnyTriangles_00.png) | ![](squareWithSkinnyTriangles_0.png) | ![](squareWithSkinnyTriangles_1.png) "
   ]
  },
  {
   "cell_type": "markdown",
   "metadata": {},
   "source": [
    "result 1 | result 2 | result 3\n",
    "       - | -      - | -\n",
    "![](FiniteElements2D_SQUARE_Regular_skinny_triangles156.png) | ![](FiniteElements2D_SQUARE_Regular_skinny_triangles1464.png)  | ![](FiniteElements2D_SQUARE_Regular_skinny_triangles9724.png) "
   ]
  },
  {
   "cell_type": "markdown",
   "metadata": {},
   "source": [
    "![](squareWithSkinnyTriangles_2DPoissonEF_ConvergenceCurve.png)"
   ]
  },
  {
   "cell_type": "markdown",
   "metadata": {},
   "source": [
    "![](squareWithSkinnyTriangles_2DPoissonEF_MinMax.png)"
   ]
  },
  {
   "cell_type": "markdown",
   "metadata": {},
   "source": [
    "## Flat cross triangle meshes (from a $(n,n^2)$ rectangular grid)"
   ]
  },
  {
   "cell_type": "markdown",
   "metadata": {},
   "source": [
    "mesh 1 | mesh 2 | mesh 3\n",
    "     - | -    - | -    - \n",
    "![](squareWithFlatCrossTriangles_00.png) | ![](squareWithFlatCrossTriangles_0.png) | ![](squareWithFlatCrossTriangles_1.png) "
   ]
  },
  {
   "cell_type": "markdown",
   "metadata": {},
   "source": [
    "result 1 | result 2 | result 3\n",
    "       - | -      - | -\n",
    "![](FiniteElements2D_SQUARE_Regular_flat_cross_triangles67.png) | ![](FiniteElements2D_SQUARE_Regular_flat_cross_triangles281.png)  | ![](FiniteElements2D_SQUARE_Regular_flat_cross_triangles2795.png) "
   ]
  },
  {
   "cell_type": "markdown",
   "metadata": {},
   "source": [
    "![](squareWithFlatCrossTriangles_2DPoissonEF_ConvergenceCurve.png)"
   ]
  },
  {
   "cell_type": "markdown",
   "metadata": {},
   "source": [
    "![](squareWithFlatCrossTriangles_2DPoissonEF_MinMax.png)"
   ]
  }
 ],
 "metadata": {
  "kernelspec": {
   "display_name": "Python 2",
   "language": "python",
   "name": "python2"
  },
  "language_info": {
   "codemirror_mode": {
    "name": "ipython",
    "version": 2
   },
   "file_extension": ".py",
   "mimetype": "text/x-python",
   "name": "python",
   "nbconvert_exporter": "python",
   "pygments_lexer": "ipython2",
   "version": "2.7.12"
  }
 },
 "nbformat": 4,
 "nbformat_minor": 2
}
