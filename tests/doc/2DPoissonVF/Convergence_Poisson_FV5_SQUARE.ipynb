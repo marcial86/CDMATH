{
 "cells": [
  {
   "cell_type": "code",
   "execution_count": 1,
   "metadata": {},
   "outputs": [],
   "source": [
    "from IPython.display import display, Markdown\n",
    "with open('PoissonProblemOnSquare.md', 'r') as file1:\n",
    "    PoissonProblemOnSquare = file1.read()\n",
    "with open('DescriptionFV5PoissonProblem.md', 'r') as file2:\n",
    "    DescriptionFV5PoissonProblem = file2.read()\n",
    "with open('CodeFV5PoissonProblem.md', 'r') as file3:\n",
    "    CodeFV5PoissonProblem = file3.read()\n",
    "with open('BibliographyFV5.md', 'r') as file4:\n",
    "    BibliographyFV5=file4.read()"
   ]
  },
  {
   "cell_type": "markdown",
   "metadata": {},
   "source": [
    "# FV5 scheme for Poisson equation"
   ]
  },
  {
   "cell_type": "code",
   "execution_count": 2,
   "metadata": {},
   "outputs": [
    {
     "data": {
      "text/markdown": [
       "## The Poisson problem on the square\n",
       "\n",
       "We consider the following Poisson problem with Dirichlet boundary conditions\n",
       "\n",
       "$$\n",
       "\\left\\{\\begin{array}{c}\n",
       "-\\Delta u=f \\textrm{ on } \\Omega\\\\\n",
       "u=0 \\textrm{ on } \\partial\\Omega\n",
       "\\end{array}\\right.\n",
       "$$\n",
       "\n",
       "on the square domain $\\Omega= [0,1]\\times [0,1]$ with  \n",
       "\n",
       "$$f=2\\pi^2 sin(\\pi x) sin(\\pi y).$$  \n",
       "The unique solution of the problem is  \n",
       "\n",
       "$$\n",
       "u=sin(\\pi x) sin(\\pi y).\n",
       "$$\n",
       "\n",
       "The Poisson equation is a particular case of the diffusion problem\n",
       "$$\n",
       "-\\nabla\\cdot(D\\vec\\nabla u)=f\n",
       "$$\n",
       "and the associated diffusion flux is\n",
       "$$\n",
       "F(u)=D\\nabla u,\n",
       "$$\n",
       "where $D$ is the diffusion matrix.  \n",
       "\n",
       "We investigate the particular case where $D$ is the identity matrix.\n"
      ],
      "text/plain": [
       "<IPython.core.display.Markdown object>"
      ]
     },
     "metadata": {},
     "output_type": "display_data"
    }
   ],
   "source": [
    "display(Markdown(PoissonProblemOnSquare))"
   ]
  },
  {
   "cell_type": "code",
   "execution_count": 5,
   "metadata": {
    "scrolled": true
   },
   "outputs": [
    {
     "data": {
      "text/markdown": [
       "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\n"
      ],
      "text/plain": [
       "<IPython.core.display.Markdown object>"
      ]
     },
     "metadata": {},
     "output_type": "display_data"
    }
   ],
   "source": [
    "display(Markdown(BibliographyFV5))"
   ]
  },
  {
   "cell_type": "code",
   "execution_count": 3,
   "metadata": {},
   "outputs": [
    {
     "data": {
      "text/markdown": [
       "## The FV5 scheme for the Laplace equation\n",
       "\n",
       "The domain $\\Omega$ is decomposed into cells $C_i$.\n",
       "\n",
       "$|C_i|$ is the measure of the cell $C_i$.\n",
       "\n",
       "$f_{ij}$ is the interface between two cells $C_i$ and $C_j$. \n",
       "\n",
       "$s_{ij}$ is the measure of the interface $f_{ij}$.\n",
       "\n",
       "$d_{ij}$ is the distance between the centers of mass of the two cells $C_i$ and $C_j$.\n",
       "\n",
       "The discrete Poisson problem is\n",
       "$$\n",
       "-\\frac{1}{|C_i|} \\sum s_{ij}F_{ij}=f_i,\n",
       "$$\n",
       "where\n",
       "$u_i$ is the approximation of $u$ in the cell $C_i$,\n",
       "\n",
       "$f_i$ is the approximation of $f$ in the cell $C_i$,\n",
       "\n",
       "$F_{ij}$ is a numerical approximation of the outward normal diffusion flux from cell $i$ to cell $j$.\n",
       "\n",
       "In the case of the scheme FV5, the flux formula are\n",
       "$$\n",
       "F_{ij}=\\frac{u_j-u_i}{d_{ij}},\n",
       "$$\n",
       "for two cells $i$ and $j$ inside the domain,\n",
       "\n",
       "and\n",
       "$$\n",
       "F_{boundary}=\\frac{u(x_f)-u_i}{d_{if}},\n",
       "$$\n",
       "for a boundary face with center $x_f$, inner cell $i$ and distance between face and cell centers $d_{if}$\n"
      ],
      "text/plain": [
       "<IPython.core.display.Markdown object>"
      ]
     },
     "metadata": {},
     "output_type": "display_data"
    }
   ],
   "source": [
    "display(Markdown(DescriptionFV5PoissonProblem))"
   ]
  },
  {
   "cell_type": "code",
   "execution_count": 4,
   "metadata": {},
   "outputs": [
    {
     "data": {
      "text/markdown": [
       "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\n"
      ],
      "text/plain": [
       "<IPython.core.display.Markdown object>"
      ]
     },
     "metadata": {},
     "output_type": "display_data"
    }
   ],
   "source": [
    "display(Markdown(CodeFV5PoissonProblem))"
   ]
  },
  {
   "cell_type": "markdown",
   "metadata": {},
   "source": [
    "## Regular grid"
   ]
  },
  {
   "cell_type": "markdown",
   "metadata": {},
   "source": [
    "mesh 1 | mesh 2 | mesh 3\n",
    "     - | -    - | -\n",
    "![](2DPoissonVF_squares/squareWithSquares_1.png) | ![](2DPoissonVF_squares/squareWithSquares_2.png)  | ![](2DPoissonVF_squares/squareWithSquares_3.png) \n"
   ]
  },
  {
   "cell_type": "markdown",
   "metadata": {},
   "source": [
    "result 1 | result 2 | result 3\n",
    "       - | -      - | -\n",
    "![](2DPoissonVF_squares/FiniteVolumes2D_SQUARE_Regular_squares16.png) | ![](2DPoissonVF_squares/FiniteVolumes2D_SQUARE_Regular_squares64.png)  | ![](2DPoissonVF_squares/FiniteVolumes2D_SQUARE_Regular_squares256.png) \n"
   ]
  },
  {
   "cell_type": "markdown",
   "metadata": {},
   "source": [
    "![](2DPoissonVF_squares/SquareWithSquares_2DPoissonFV_ConvergenceCurve.png)"
   ]
  },
  {
   "cell_type": "markdown",
   "metadata": {},
   "source": [
    "## Deformed quadrangles"
   ]
  },
  {
   "cell_type": "markdown",
   "metadata": {},
   "source": [
    "mesh 1 | mesh 2 | mesh 3\n",
    "     - | -    - | -\n",
    "![](2DPoissonVF_deformedQuadrangles/squareWithDeformedQuadrangles_1.png) | ![](2DPoissonVF_deformedQuadrangles/squareWithDeformedQuadrangles_2.png)  | ![](2DPoissonVF_deformedQuadrangles/squareWithDeformedQuadrangles_3.png) "
   ]
  },
  {
   "cell_type": "markdown",
   "metadata": {},
   "source": [
    "result 1 | result 2 | result 3\n",
    "       - | -      - | -\n",
    "![](2DPoissonVF_deformedQuadrangles/FiniteVolumes2D_SQUARE_Deformed_quadrangles16.png) | ![](2DPoissonVF_deformedQuadrangles/FiniteVolumes2D_SQUARE_Deformed_quadrangles64.png)  | ![](2DPoissonVF_deformedQuadrangles/FiniteVolumes2D_SQUARE_Deformed_quadrangles256.png) "
   ]
  },
  {
   "cell_type": "markdown",
   "metadata": {},
   "source": [
    "![](2DPoissonVF_deformedQuadrangles/SquareWithDeformedQuadrangles_2DPoissonVF_ConvergenceCurve.png)"
   ]
  },
  {
   "cell_type": "markdown",
   "metadata": {},
   "source": [
    "## Delaunay triangular meshes"
   ]
  },
  {
   "cell_type": "markdown",
   "metadata": {},
   "source": [
    "mesh 1 | mesh 2 | mesh 3\n",
    "     - | -    - | -\n",
    "![](2DPoissonVF_triangles/squareWithTriangles_1.png) | ![](2DPoissonVF_triangles/squareWithTriangles_2.png)  | ![](2DPoissonVF_triangles/squareWithTriangles_3.png) "
   ]
  },
  {
   "cell_type": "markdown",
   "metadata": {},
   "source": [
    "result 1 | result 2 | result 3\n",
    "       - | -      - | -\n",
    "![](2DPoissonVF_triangles/FiniteVolumes2D_SQUARE_Unstructured_triangles40.png) | ![](2DPoissonVF_triangles/FiniteVolumes2D_SQUARE_Unstructured_triangles224.png)  | ![](2DPoissonVF_triangles/FiniteVolumes2D_SQUARE_Unstructured_triangles934.png) "
   ]
  },
  {
   "cell_type": "markdown",
   "metadata": {},
   "source": [
    "![](2DPoissonVF_triangles/SquareWithTriangles_2DPoissonVF_ConvergenceCurve.png)"
   ]
  },
  {
   "cell_type": "markdown",
   "metadata": {},
   "source": [
    "## Cross triangle meshes (from a $(n,2n)$ rectangular grid)"
   ]
  },
  {
   "cell_type": "markdown",
   "metadata": {},
   "source": [
    "mesh 1 | mesh 2 | mesh 3\n",
    "     - | -    - | -\n",
    "![](2DPoissonVF_cross_triangles/squareWithCrossTriangles_0.png) | ![](2DPoissonVF_cross_triangles/squareWithCrossTriangles_1.png)  | ![](2DPoissonVF_cross_triangles/squareWithCrossTriangles_2.png) \n"
   ]
  },
  {
   "cell_type": "markdown",
   "metadata": {},
   "source": [
    "result 1 | result 2 | result 3\n",
    "       - | -      - | -\n",
    "![](2DPoissonVF_cross_triangles/FiniteVolumes2D_SQUARE_Regular_cross_triangles72.png) | ![](2DPoissonVF_cross_triangles/FiniteVolumes2D_SQUARE_Regular_cross_triangles288.png)  | ![](2DPoissonVF_cross_triangles/FiniteVolumes2D_SQUARE_Regular_cross_triangles1800.png) \n"
   ]
  },
  {
   "cell_type": "markdown",
   "metadata": {},
   "source": [
    "![](2DPoissonVF_cross_triangles/SquareWithCrossTriangles_2DPoissonFV_ConvergenceCurve.png)"
   ]
  },
  {
   "cell_type": "markdown",
   "metadata": {},
   "source": [
    "## Hexagonal meshes"
   ]
  },
  {
   "cell_type": "markdown",
   "metadata": {},
   "source": [
    "mesh 1 | mesh 2 | mesh 3\n",
    "     - | -    - | -\n",
    "![](2DPoissonVF_hexagons/squareWithHexagons_1.png) | ![](2DPoissonVF_hexagons/squareWithHexagons_2.png)  | ![](2DPoissonVF_hexagons/squareWithHexagons_3.png) "
   ]
  },
  {
   "cell_type": "markdown",
   "metadata": {},
   "source": [
    "result 1 | result 2 | result 3\n",
    "       - | -      - | -\n",
    "![](2DPoissonVF_hexagons/FiniteVolumes2D_SQUARE_Regular_hexagons25.png) | ![](2DPoissonVF_hexagons/FiniteVolumes2D_SQUARE_Regular_hexagons255.png)  | ![](2DPoissonVF_hexagons/FiniteVolumes2D_SQUARE_Regular_hexagons1020.png) "
   ]
  },
  {
   "cell_type": "markdown",
   "metadata": {},
   "source": [
    "![](2DPoissonVF_hexagons/SquareWithHexagons_2DPoissonVF_ConvergenceCurve.png)"
   ]
  },
  {
   "cell_type": "markdown",
   "metadata": {},
   "source": [
    "## Locally refined meshes"
   ]
  },
  {
   "cell_type": "markdown",
   "metadata": {},
   "source": [
    "mesh 1 | mesh 2 | mesh 3\n",
    "     - | -    - | -\n",
    "![](2DPoissonVF_loc_ref/squareWithLocRefSquares_1.png) | ![](2DPoissonVF_loc_ref/squareWithLocRefSquares_2.png)  | ![](2DPoissonVF_loc_ref/squareWithLocRefSquares_3.png) "
   ]
  },
  {
   "cell_type": "markdown",
   "metadata": {},
   "source": [
    "result 1 | result 2 | result 3\n",
    "       - | -      - | -\n",
    "![](2DPoissonVF_loc_ref/FiniteVolumes2D_SQUARE_Non_conforming_locally_refined40.png) | ![](2DPoissonVF_loc_ref/FiniteVolumes2D_SQUARE_Non_conforming_locally_refined160.png)  | ![](2DPoissonVF_loc_ref/FiniteVolumes2D_SQUARE_Non_conforming_locally_refined640.png) \n"
   ]
  },
  {
   "cell_type": "markdown",
   "metadata": {},
   "source": [
    "![](2DPoissonVF_loc_ref/SquareWithLocRefSquares_2DPoissonVF_ConvergenceCurve.png)"
   ]
  },
  {
   "cell_type": "markdown",
   "metadata": {},
   "source": [
    "## Checkerboard meshes"
   ]
  },
  {
   "cell_type": "markdown",
   "metadata": {},
   "source": [
    "mesh 1 | mesh 2 | mesh 3\n",
    "     - | -    - | -\n",
    "![](2DPoissonVF_checkerboard/checkerboard_4x4.png) | ![](2DPoissonVF_checkerboard/checkerboard_8x8.png)  | ![](2DPoissonVF_checkerboard/checkerboard_16x16.png) \n"
   ]
  },
  {
   "cell_type": "markdown",
   "metadata": {},
   "source": [
    "result 1 | result 2 | result 3\n",
    "       - | -      - | -\n",
    "![](2DPoissonVF_checkerboard/FiniteVolumes2D_SQUARE_Non_conforming_checkerboard40.png) | ![](2DPoissonVF_checkerboard/FiniteVolumes2D_SQUARE_Non_conforming_checkerboard160.png)  | ![](2DPoissonVF_checkerboard/FiniteVolumes2D_SQUARE_Non_conforming_checkerboard640.png) \n"
   ]
  },
  {
   "cell_type": "markdown",
   "metadata": {},
   "source": [
    "![](2DPoissonVF_checkerboard/SquareWithCheckerboardRefinement_2DPoissonVF_ConvergenceCurve.png)"
   ]
  },
  {
   "cell_type": "markdown",
   "metadata": {},
   "source": [
    "## Brick wall meshes"
   ]
  },
  {
   "cell_type": "markdown",
   "metadata": {},
   "source": [
    "mesh 1 | mesh 2 | mesh 3\n",
    "     - | -    - | -\n",
    "![](2DPoissonVF_brickwall/squareWithBrickWall_1.png) | ![](2DPoissonVF_brickwall/squareWithBrickWall_2.png)  | ![](2DPoissonVF_brickwall/squareWithBrickWall_3.png) \n"
   ]
  },
  {
   "cell_type": "markdown",
   "metadata": {},
   "source": [
    "result 1 | result 2 | result 3\n",
    "       - | -      - | -\n",
    "![](2DPoissonVF_brickwall/FiniteVolumes2D_SQUARE_Regular_brickwall25.png) | ![](2DPoissonVF_brickwall/FiniteVolumes2D_SQUARE_Regular_brickwall225.png)  | ![](2DPoissonVF_brickwall/FiniteVolumes2D_SQUARE_Regular_brickwall900.png) \n"
   ]
  },
  {
   "cell_type": "markdown",
   "metadata": {},
   "source": [
    "![](2DPoissonVF_brickwall/SquareWithBrickWall_2DPoissonVF_ConvergenceCurve.png)"
   ]
  },
  {
   "cell_type": "markdown",
   "metadata": {},
   "source": [
    "## Long rectangle meshes ( $(n,n^2)$ rectangular grid)"
   ]
  },
  {
   "cell_type": "markdown",
   "metadata": {},
   "source": [
    "mesh 1 | mesh 2 \n",
    "     - | -    -\n",
    "![](2DPoissonVF_long_rectangles/squareWithLongRectangles_00.png) | ![](2DPoissonVF_long_rectangles/squareWithLongRectangles_0.png) | ![](2DPoissonVF_long_rectangles/squareWithLongRectangles_1.png) "
   ]
  },
  {
   "cell_type": "markdown",
   "metadata": {},
   "source": [
    "result 1 | result 2 | result 3\n",
    "       - | -      - | -\n",
    "![](2DPoissonVF_long_rectangles/FiniteVolumes2D_SQUARE_Regular_long_rectangles125.png) | ![](2DPoissonVF_long_rectangles/FiniteVolumes2D_SQUARE_Regular_long_rectangles1331.png)  | ![](2DPoissonVF_long_rectangles/FiniteVolumes2D_SQUARE_Regular_long_rectangles9261.png) \n"
   ]
  },
  {
   "cell_type": "markdown",
   "metadata": {},
   "source": [
    "![](2DPoissonVF_long_rectangles/SquareWithLongRectangles_2DPoissonFV_ConvergenceCurve.png)"
   ]
  },
  {
   "cell_type": "markdown",
   "metadata": {},
   "source": [
    "## Long right triangle meshes (from a $(n,n^2)$ rectangular grid)"
   ]
  },
  {
   "cell_type": "markdown",
   "metadata": {},
   "source": [
    "mesh 1 | mesh 2 | mesh 3 \n",
    "     - | -    - | -    - \n",
    "![](2DPoissonVF_long_triangles/squareWithLongTriangles_00.png) | ![](2DPoissonVF_long_triangles/squareWithLongTriangles_0.png) | ![](2DPoissonVF_long_triangles/squareWithLongTriangles_1.png) "
   ]
  },
  {
   "cell_type": "markdown",
   "metadata": {},
   "source": [
    "result 1 | result 2 | result 3\n",
    "       - | -      - | -\n",
    "![](2DPoissonVF_long_triangles/FiniteVolumes2D_SQUARE_Regular_long_triangles250.png) | ![](2DPoissonVF_long_triangles/FiniteVolumes2D_SQUARE_Regular_long_triangles2662.png)  | ![](2DPoissonVF_long_triangles/FiniteVolumes2D_SQUARE_Regular_long_triangles18522.png) \n"
   ]
  },
  {
   "cell_type": "markdown",
   "metadata": {},
   "source": [
    "![](2DPoissonVF_long_triangles/SquareWithLongTriangles_2DPoissonFV_ConvergenceCurve.png)"
   ]
  },
  {
   "cell_type": "markdown",
   "metadata": {},
   "source": [
    "## Flat cross triangle meshes (from a $(n,n^2)$ rectangular grid)"
   ]
  },
  {
   "cell_type": "markdown",
   "metadata": {},
   "source": [
    "mesh 1 | mesh 2 | mesh 3\n",
    "     - | -    - | -    - \n",
    "![](2DPoissonVF_flat_triangles/squareWithFlatTriangles_00.png) | ![](2DPoissonVF_flat_triangles/squareWithFlatTriangles_0.png) | ![](2DPoissonVF_flat_triangles/squareWithFlatTriangles_1.png) "
   ]
  },
  {
   "cell_type": "markdown",
   "metadata": {},
   "source": [
    "result 1 | result 2 | result 3\n",
    "       - | -      - | -\n",
    "![](2DPoissonVF_flat_triangles/FiniteVolumes2D_SQUARE_Regular_flat_triangles500.png) | ![](2DPoissonVF_flat_triangles/FiniteVolumes2D_SQUARE_Regular_flat_triangles5324.png)  | ![](2DPoissonVF_flat_triangles/FiniteVolumes2D_SQUARE_Regular_flat_triangles37044.png) \n"
   ]
  },
  {
   "cell_type": "markdown",
   "metadata": {},
   "source": [
    "![](2DPoissonVF_flat_triangles/SquareWithFlatTriangles_2DPoissonFV_ConvergenceCurve.png)"
   ]
  }
 ],
 "metadata": {
  "kernelspec": {
   "display_name": "Python 2",
   "language": "python",
   "name": "python2"
  },
  "language_info": {
   "codemirror_mode": {
    "name": "ipython",
    "version": 2
   },
   "file_extension": ".py",
   "mimetype": "text/x-python",
   "name": "python",
   "nbconvert_exporter": "python",
   "pygments_lexer": "ipython2",
   "version": "2.7.15"
  }
 },
 "nbformat": 4,
 "nbformat_minor": 2
}
